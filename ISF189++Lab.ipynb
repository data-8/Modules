{
 "cells": [
  {
   "cell_type": "markdown",
   "metadata": {
    "deletable": true,
    "editable": true
   },
   "source": [
    "# ISF 189 Lab\n",
    "\n",
    "Welcome to lab! Please read this lab in its entiretey as the analysis will make a lot more sense with the background context provided.\n",
    "\n",
    "This lab is intended to be a hands-on introduction to data science as it can be applied to SES (socio-economic status). \n",
    "\n",
    "SES is commonly measured in variables of salary, parental education, occupation status, and other factors. Historically, income has been treated as the defining factor of SES, and there have been many research studies that have been conducted that show that SES as defined by income is the leading factor for school performance in test scores.\n",
    "\n",
    "Today we are going to suggest using real-world data that this may not be the case. We are going to give you the chance to explore and toggle between different variables to define SES and how much importance to assign to each variable. Data science is not just about plugging in the numbers, it is about making many decisions and backing up those decisions with quantitative reasoning. This can have implications later in how the world treats SES and public policy suggestions.\n",
    "\n",
    "In addition, we are going to suggest that the defining variable for SES might not even be income, but rather family wealth in providing a more accurate prediction for school performance. \n",
    "\n",
    "There is no standard way of measuring SES. In this lab, we are going to define SES in the following ways:\n",
    "\n",
    "1. SES is a positive number that represents the ratio:    $individual SES / median SES$ where 1 means that this individual is exactly at the median SES. This number will always be positive because we are assuming that there will be no cases of negative wealth.\n",
    "\n",
    "2. individual SES is a number such that $p_i * income score + p_e * years of education$ where $p_i$ is the importance we assign to income on a scale of 0 to 1 and $p_e$ is the importance we assign to years of education on a scale of 0 to 1. Throughout this lab we will be changing the values of $p_i$ and $p_e$ but it is important to remember that these values *must add up to 1*. Our default values at first are $p_i$ = 0.8 and $p_e$ = 0.2.\n",
    "\n",
    "3. median SES is calculated based on the value that median income in America is 51,939 dollars based on the U.S. Census Bureau of 2013 and median years of education is #FILL IN VALUE based on #CITE SOURCE\n",
    "\n",
    "4. income score is a score assigned to each income bracket to ensure that all our factors are on the same scale. Our income scores are defined as the following:"
   ]
  },
  {
   "cell_type": "markdown",
   "metadata": {
    "collapsed": true,
    "deletable": true,
    "editable": true
   },
   "source": [
    "<table>\n",
    "  <tr>\n",
    "    <th>Income Score</th>\n",
    "    <th>Income Bracket (\\$) </th>\n",
    "  </tr>\n",
    "  <tr>\n",
    "    <td>1</td>\n",
    "    <td>less than \\$10,000</td>\n",
    "  </tr>\n",
    " <tr>\n",
    "    <td>2</td>\n",
    "    <td>\\$15,000 - \\$19,999</td>\n",
    "  </tr>\n",
    "  <tr>\n",
    "    <td>3</td>\n",
    "    <td>\\$20,000 - \\$24,999</td>\n",
    "  </tr>\n",
    "  <tr>\n",
    "    <td>4</td>\n",
    "    <td>\\$25,000 - \\$29,999</td>\n",
    "  </tr>\n",
    "  <tr>\n",
    "    <td>5</td>\n",
    "    <td>\\$30,000 - \\$34,999</td>\n",
    "  </tr>\n",
    "    <tr>\n",
    "    <td>6</td>\n",
    "    <td>\\$35,000 - \\$39,999</td>\n",
    "  </tr>\n",
    "    <tr>\n",
    "    <td>7</td>\n",
    "    <td>\\$40,000 - \\$44,999</td>\n",
    "  </tr>\n",
    "    <tr>\n",
    "    <td>8</td>\n",
    "    <td>\\$45,000 - \\$49,999</td>\n",
    "  </tr>\n",
    "    <tr>\n",
    "    <td>9</td>\n",
    "    <td>\\$50,000 - \\$59,999</td>\n",
    "  </tr>\n",
    "   <tr>\n",
    "    <td>10</td>\n",
    "    <td>\\$60,000 - \\$74,999</td>\n",
    "  </tr> \n",
    "   <tr>\n",
    "    <td>11</td>\n",
    "    <td>\\$75,000 - \\$99,999</td>\n",
    "  </tr>   \n",
    "   <tr>\n",
    "    <td>12</td>\n",
    "    <td>\\$100,000 - \\$124,999</td>\n",
    "  </tr> \n",
    "   <tr>\n",
    "    <td>13</td>\n",
    "    <td>\\$125,000 - \\$149,999</td>\n",
    "  </tr> \n",
    "   <tr>\n",
    "    <td>14</td>\n",
    "    <td>\\$150,000 - \\$199,999</td>\n",
    "  </tr>\n",
    "   <tr>\n",
    "    <td>15</td>\n",
    "    <td>\\$200,000 or more</td>\n",
    "  </tr> \n",
    "</table>"
   ]
  },
  {
   "cell_type": "markdown",
   "metadata": {
    "deletable": true,
    "editable": true
   },
   "source": [
    "As you work through the lab, there will be lab assistants in the room to answer any of your questions. If you get stuck at any point, feel free to ask a neighbor or one of the lab assistants for help.\n",
    "\n",
    "## What This Lab Will Cover\n",
    "1. Running Jupyter Notebooks\n",
    "2. Data Analysis\n",
    "3. Interpretation\n",
    "\n",
    "## What you need to do:\n",
    "* Read the content, complete the questions \n",
    "* Analyze the data\n",
    "* Submit the assignment"
   ]
  },
  {
   "cell_type": "markdown",
   "metadata": {
    "deletable": true,
    "editable": true
   },
   "source": [
    "# 1. Running Jupyter Notebooks\n",
    "\n",
    "You are currently working in a Jupyter Notebook. A Notebook allows text and code to be combined into one document. Each rectangular section of a notebook is called a \"cell.\" There are two types of cells in this notebook: text cells and code cells. \n",
    "\n",
    "Jupyter allows you to run simulations and regressions in real time. To do this, select a code cell, and click the \"run cell\" button at the top that looks like ▶| to confirm any changes. Alternatively, you can hold down the `shift` key and then press `return` or `enter`.\n",
    "\n",
    "In the following simulations, anytime you see `In [ ]` you should click the \"run cell\" button to see output."
   ]
  },
  {
   "cell_type": "markdown",
   "metadata": {
    "deletable": true,
    "editable": true
   },
   "source": [
    "## 1.1 Importing Modules\n",
    "\n",
    "First we need to import some modules so that we can call the functions from within. We are going to use these functions to manipulate data tables and conduct math operations. Run the code cell below to import these modules."
   ]
  },
  {
   "cell_type": "code",
   "execution_count": 23,
   "metadata": {
    "collapsed": true,
    "deletable": true,
    "editable": true
   },
   "outputs": [],
   "source": [
    "from datascience import *\n",
    "import numpy as np\n",
    "%matplotlib inline"
   ]
  },
  {
   "cell_type": "markdown",
   "metadata": {
    "deletable": true,
    "editable": true
   },
   "source": [
    "## 1.2 Reading Data\n",
    "In order to examine the how the weighting of these variables affects SES, we are going to examine datasets from the 5-year American Community Survey (ACS). The American Community Survey is an ongoing statistical survey by the U.S. Census Bureau. In this table, we have consolidated household income (inflation adjusted dollar) and years of education (educational attainment), and Food Stamps/Supplemental Nutrition Assistance Program (SNAP) status data for 4 different ethnicities. Run the code cell below to see what the data looks like.\n",
    "<br>Source: https://factfinder.census.gov"
   ]
  },
  {
   "cell_type": "code",
   "execution_count": 25,
   "metadata": {
    "collapsed": false,
    "deletable": true,
    "editable": true
   },
   "outputs": [],
   "source": [
    "educ = Table.read_table('data/totaleduc.csv')\n",
    "educbyrace = Table.read_table('data/educbyrace.csv')\n",
    "income = Table.read_table('data/totalincome.csv')\n",
    "incomebyrace = Table.read_table('data/incomebyrace.csv')"
   ]
  },
  {
   "cell_type": "code",
   "execution_count": 26,
   "metadata": {
    "collapsed": false,
    "deletable": true,
    "editable": true
   },
   "outputs": [
    {
     "data": {
      "text/html": [
       "<table border=\"1\" class=\"dataframe\">\n",
       "    <thead>\n",
       "        <tr>\n",
       "            <th>Educational Attainment </th> <th>Total Estimate (African American)</th> <th>Total Estimate (Asian population)</th> <th>Total Estimate (Hispanic/Latino)</th> <th>Total Estimate (White)</th>\n",
       "        </tr>\n",
       "    </thead>\n",
       "    <tbody>\n",
       "        <tr>\n",
       "            <td>Total                          </td> <td>25,578,326                       </td> <td>12,076,055                       </td> <td>31,653,207                      </td> <td>163,862,749           </td>\n",
       "        </tr>\n",
       "    </tbody>\n",
       "        <tr>\n",
       "            <td>Less than 9th grade            </td> <td>1,108,681                        </td> <td>991,370                          </td> <td>6,381,512                       </td> <td>7,372,882             </td>\n",
       "        </tr>\n",
       "    </tbody>\n",
       "        <tr>\n",
       "            <td>9th to 12th grade, no diploma  </td> <td>2,795,627                        </td> <td>635,932                          </td> <td>4,381,659                       </td> <td>5,017,591             </td>\n",
       "        </tr>\n",
       "    </tbody>\n",
       "        <tr>\n",
       "            <td>Regular high school diploma    </td> <td>6,866,990                        </td> <td>1,705,157                        </td> <td>7,448,990                       </td> <td>9,154,147             </td>\n",
       "        </tr>\n",
       "    </tbody>\n",
       "        <tr>\n",
       "            <td>GED or alternative credential  </td> <td>1,195,082                        </td> <td>164,285                          </td> <td>1,289,000                       </td> <td>1,453,285             </td>\n",
       "        </tr>\n",
       "    </tbody>\n",
       "        <tr>\n",
       "            <td>Some college, no degree        </td> <td>6,335,160                        </td> <td>1,466,673                        </td> <td>5,575,654                       </td> <td>7,042,327             </td>\n",
       "        </tr>\n",
       "    </tbody>\n",
       "        <tr>\n",
       "            <td>Associate's degree             </td> <td>2,101,773                        </td> <td>795,105                          </td> <td>1,899,028                       </td> <td>2,694,133             </td>\n",
       "        </tr>\n",
       "    </tbody>\n",
       "        <tr>\n",
       "            <td>Bachelor's degree              </td> <td>3,266,913                        </td> <td>3,622,202                        </td> <td>3,222,634                       </td> <td>6,844,836             </td>\n",
       "        </tr>\n",
       "    </tbody>\n",
       "        <tr>\n",
       "            <td>Graduate or professional degree</td> <td>1,908,100                        </td> <td>2,695,331                        </td> <td>1,454,730                       </td> <td>4,150,061             </td>\n",
       "        </tr>\n",
       "    </tbody>\n",
       "</table>"
      ],
      "text/plain": [
       "Educational Attainment          | Total Estimate (African American) | Total Estimate (Asian population) | Total Estimate (Hispanic/Latino) | Total Estimate (White)\n",
       "Total                           | 25,578,326                        | 12,076,055                        | 31,653,207                       | 163,862,749\n",
       "Less than 9th grade             | 1,108,681                         | 991,370                           | 6,381,512                        | 7,372,882\n",
       "9th to 12th grade, no diploma   | 2,795,627                         | 635,932                           | 4,381,659                        | 5,017,591\n",
       "Regular high school diploma     | 6,866,990                         | 1,705,157                         | 7,448,990                        | 9,154,147\n",
       "GED or alternative credential   | 1,195,082                         | 164,285                           | 1,289,000                        | 1,453,285\n",
       "Some college, no degree         | 6,335,160                         | 1,466,673                         | 5,575,654                        | 7,042,327\n",
       "Associate's degree              | 2,101,773                         | 795,105                           | 1,899,028                        | 2,694,133\n",
       "Bachelor's degree               | 3,266,913                         | 3,622,202                         | 3,222,634                        | 6,844,836\n",
       "Graduate or professional degree | 1,908,100                         | 2,695,331                         | 1,454,730                        | 4,150,061"
      ]
     },
     "execution_count": 26,
     "metadata": {},
     "output_type": "execute_result"
    }
   ],
   "source": [
    "educbyrace"
   ]
  },
  {
   "cell_type": "markdown",
   "metadata": {
    "deletable": true,
    "editable": true
   },
   "source": [
    "# 2. Data Analysis\n",
    "\n",
    "## 2.1 SES with Income\n",
    "\n",
    "Now we are going to plot a linear regression line for the data points. Recall that a linear regression line is a line with the minimum aggregate distance between the y-value of the data point and the y-value of the line at that x-value. We compute the r-value as a measure of correlation. An r-value of 1 means that the data is perfectly positively linearly correlated, and an r-value of -1 means that the data is perfectly negatively linearly correlated.\n",
    "\n",
    "Run the code cell below to plot the regression line and compute the r-value."
   ]
  },
  {
   "cell_type": "code",
   "execution_count": null,
   "metadata": {
    "collapsed": true,
    "deletable": true,
    "editable": true
   },
   "outputs": [],
   "source": [
    "#take in cell data\n",
    "#plot data points on graph\n",
    "#run regression line\n",
    "#compute r-value"
   ]
  },
  {
   "cell_type": "markdown",
   "metadata": {
    "deletable": true,
    "editable": true
   },
   "source": [
    "In the plot above, we defined SES with $p_i$ = 0.8 and $p_e$ = 0.2. Try toggling the slider below to change up the values and find the maximum r-value. Remember that $p_i$ + $p_e$ = 1."
   ]
  },
  {
   "cell_type": "code",
   "execution_count": null,
   "metadata": {
    "collapsed": true,
    "deletable": true,
    "editable": true
   },
   "outputs": [],
   "source": [
    "#slider here\n",
    "#as values change, the regression line should change <-- need to double check to make sure that this is actually going to happen\n",
    "#based on how we defined SES and p_i and p_e"
   ]
  },
  {
   "cell_type": "markdown",
   "metadata": {
    "deletable": true,
    "editable": true
   },
   "source": [
    "Enter in your values of $p_i$ and $p_e$ and the maximum r-value that you were able to find below with $p_i$ as the first value and r as the last value.\n",
    "\n",
    "Ex.\n",
    "0.8, 0.2, 0.9999"
   ]
  },
  {
   "cell_type": "code",
   "execution_count": null,
   "metadata": {
    "collapsed": true,
    "deletable": true,
    "editable": true
   },
   "outputs": [],
   "source": []
  },
  {
   "cell_type": "markdown",
   "metadata": {
    "deletable": true,
    "editable": true
   },
   "source": [
    "## 2.2 SES with Wealth\n",
    "\n",
    "Now we are going to do the same thing with family wealth and see which SES definition serves as a better indicator for school performance.\n",
    "\n",
    "Run the code below to generate a regression line and a default r-value."
   ]
  },
  {
   "cell_type": "code",
   "execution_count": null,
   "metadata": {
    "collapsed": true,
    "deletable": true,
    "editable": true
   },
   "outputs": [],
   "source": [
    "#generate regression with wealth on x axis\n",
    "#compute r value"
   ]
  },
  {
   "cell_type": "markdown",
   "metadata": {
    "deletable": true,
    "editable": true
   },
   "source": [
    "Toggle $p_w$ where $p_w$ represents the importance of wealth in our definition of SES to find the maximum r-value. Recall that $p_w$ + $p_e$ = 1."
   ]
  },
  {
   "cell_type": "code",
   "execution_count": null,
   "metadata": {
    "collapsed": true,
    "deletable": true,
    "editable": true
   },
   "outputs": [],
   "source": [
    "#Toggle thing should change regression line and r2-value"
   ]
  },
  {
   "cell_type": "markdown",
   "metadata": {
    "deletable": true,
    "editable": true
   },
   "source": [
    "Enter in your values for $p_w$, $p_e$, and $r$."
   ]
  },
  {
   "cell_type": "code",
   "execution_count": null,
   "metadata": {
    "collapsed": true,
    "deletable": true,
    "editable": true
   },
   "outputs": [],
   "source": []
  },
  {
   "cell_type": "markdown",
   "metadata": {
    "deletable": true,
    "editable": true
   },
   "source": [
    "Did income or wealth give you a higher r-value? Write a paragraph explaining your results and possible reasons for this result."
   ]
  },
  {
   "cell_type": "code",
   "execution_count": null,
   "metadata": {
    "collapsed": true,
    "deletable": true,
    "editable": true
   },
   "outputs": [],
   "source": []
  },
  {
   "cell_type": "markdown",
   "metadata": {
    "deletable": true,
    "editable": true
   },
   "source": [
    "Write up for each of the following:\n",
    "\n",
    "1. What are some other factors that can influence SES. How would you measure them?\n",
    "\n",
    "2. What are some other aspects other than test scores and school performance that can be influenced by SES. How would you measure them?"
   ]
  },
  {
   "cell_type": "code",
   "execution_count": null,
   "metadata": {
    "collapsed": true,
    "deletable": true,
    "editable": true
   },
   "outputs": [],
   "source": []
  },
  {
   "cell_type": "markdown",
   "metadata": {
    "deletable": true,
    "editable": true
   },
   "source": [
    "## 2.3 Income Inequality benchmarks- the Lorenz Curve & Gini Coefficent\n",
    "We can depict the concentration of wealth using two interlinked methods: the Lorenz Curve and the Gini Coefficient.  The Lorenz curve is a graphical illustration of this and the Gini Coefficient is a numeric representation (a ratio).  \n",
    "The Lorenz curve lines up the population from poorest to richest on the x axis, and then the y-axis graphs cumulative income of all the people poorer than the one on the x axis.  To make these comparable across countries, these are translated into percentages.  \n",
    "(0,0) and (100,100) are always the end points of the curve: 0% of the people own nothing while 100% of the people own 100% of the wealth.  \n",
    "\n",
    "Let's line up our individual income earners to look at inequality just among income earners.  Let's start with a fresh table, with the column of the income.  Let's put the table of incomes in order from lowest to highest.  Then let's make a new column, that adds up all incomes above the row.  Here's an example:\n",
    "\n",
    "<style type=\"text/css\">\n",
    ".tg  {border-collapse:collapse;border-spacing:0;}\n",
    ".tg td{font-family:Arial, sans-serif;font-size:14px;padding:10px 5px;border-style:solid;border-width:1px;overflow:hidden;word-break:normal;}\n",
    ".tg th{font-family:Arial, sans-serif;font-size:14px;font-weight:normal;padding:10px 5px;border-style:solid;border-width:1px;overflow:hidden;word-break:normal;}\n",
    ".tg .tg-baqh{text-align:center;vertical-align:top}\n",
    "</style>\n",
    "<table class=\"tg\">\n",
    "  <tr>\n",
    "    <th class=\"tg-baqh\">Income</th>\n",
    "    <th class=\"tg-baqh\">Cumulative Income</th>\n",
    "  </tr>\n",
    "  <tr>\n",
    "    <td class=\"tg-baqh\">3</td>\n",
    "    <td class=\"tg-baqh\">3</td>\n",
    "  </tr>\n",
    "  <tr>\n",
    "    <td class=\"tg-baqh\">3</td>\n",
    "    <td class=\"tg-baqh\">6</td>\n",
    "  </tr>\n",
    "  <tr>\n",
    "    <td class=\"tg-baqh\">4</td>\n",
    "    <td class=\"tg-baqh\">10</td>\n",
    "  </tr>\n",
    "  <tr>\n",
    "    <td class=\"tg-baqh\">7</td>\n",
    "    <td class=\"tg-baqh\">17</td>\n",
    "  </tr>\n",
    "  <tr>\n",
    "    <td class=\"tg-baqh\">8</td>\n",
    "    <td class=\"tg-baqh\">26</td>\n",
    "  </tr>\n",
    "</table>"
   ]
  },
  {
   "cell_type": "markdown",
   "metadata": {
    "deletable": true,
    "editable": true
   },
   "source": [
    "We want to calculate the household income per capita and append it our data table. In order to do that, we will have to calculate the total household income and total number of people for each household. \n",
    "We will also do this for households that do not have income earners."
   ]
  },
  {
   "cell_type": "code",
   "execution_count": null,
   "metadata": {
    "collapsed": true,
    "deletable": true,
    "editable": true
   },
   "outputs": [],
   "source": [
    "# DRAFT, depending on data\n",
    "\n",
    "\n",
    "# First, add a column 'Household Size' to your data table, \n",
    "# which has the number of people in the household for each row\n",
    "# hint: you may have this in the household composition lab (Lab 4)\n",
    "# Next, using your income_earners table, group by Household ID and find\n",
    "# the sum of incomes for each household. Turn that into a table with two\n",
    "# columns, 'Household ID' and 'Household Income'\n",
    "# Now combine the two tables using the join_keeping_all_main_table_rows\n",
    "# function, and use these values for your arguments:\n",
    "# main_table = your data table\n",
    "# joined = your table with household incomes\n",
    "# fill_in_value = 0 (households without any income earners have zero dollars)\n",
    "# combining_column_label = 'Household ID'\n",
    "# Finally, you will create a new column, 'Household Income per Capita,' which is \n",
    "# equal to 'Household Income' divided by 'Household Size'"
   ]
  },
  {
   "cell_type": "code",
   "execution_count": null,
   "metadata": {
    "collapsed": true,
    "deletable": true,
    "editable": true
   },
   "outputs": [],
   "source": [
    "# First, you are going to want to get your incomes in order\n",
    "# this should be a list or an array\n",
    "ordered_incomes = "
   ]
  },
  {
   "cell_type": "code",
   "execution_count": null,
   "metadata": {
    "collapsed": true,
    "deletable": true,
    "editable": true
   },
   "outputs": [],
   "source": [
    "# This for loop creates a list called cumulative_step, which stores the values for the 'Cumulative Income' column\n",
    "total = 0\n",
    "cumulative_step = []\n",
    "for x in ordered_incomes:\n",
    "    total = x + total\n",
    "    cumulative_step.append(total)"
   ]
  },
  {
   "cell_type": "code",
   "execution_count": null,
   "metadata": {
    "collapsed": true,
    "deletable": true,
    "editable": true
   },
   "outputs": [],
   "source": [
    "lorenz_table = Table().with_columns(\n",
    "    ['Income', ordered_incomes],\n",
    "    ['Cumulative Income', cumulative_step])"
   ]
  },
  {
   "cell_type": "markdown",
   "metadata": {
    "deletable": true,
    "editable": true
   },
   "source": [
    "Now we will need to turn these into percentages.  Go to the last row of the table.  This will tell you the total amount of income in the economy.  We will divide the Cumulative Income column by this number.  In the example, that is 25.  Although my table shows the percent sign, you do not have to include the percent sign in your table.  In fact, there will be one less step for graphing if you do not include the percent sign.\n",
    "\n",
    "<style type=\"text/css\">\n",
    ".tg  {border-collapse:collapse;border-spacing:0;}\n",
    ".tg td{font-family:Arial, sans-serif;font-size:14px;padding:10px 5px;border-style:solid;border-width:1px;overflow:hidden;word-break:normal;}\n",
    ".tg th{font-family:Arial, sans-serif;font-size:14px;font-weight:normal;padding:10px 5px;border-style:solid;border-width:1px;overflow:hidden;word-break:normal;}\n",
    ".tg .tg-baqh{text-align:center;vertical-align:top}\n",
    ".tg .tg-yw4l{vertical-align:top}\n",
    "</style>\n",
    "<table class=\"tg\">\n",
    "  <tr>\n",
    "    <th class=\"tg-baqh\">Income</th>\n",
    "    <th class=\"tg-baqh\">Cumulative Income</th>\n",
    "    <th class=\"tg-yw4l\">Percentage Income</th>\n",
    "  </tr>\n",
    "  <tr>\n",
    "    <td class=\"tg-baqh\">3</td>\n",
    "    <td class=\"tg-baqh\">3</td>\n",
    "    <td class=\"tg-yw4l\">12%</td>\n",
    "  </tr>\n",
    "  <tr>\n",
    "    <td class=\"tg-baqh\">3</td>\n",
    "    <td class=\"tg-baqh\">6</td>\n",
    "    <td class=\"tg-yw4l\">24%</td>\n",
    "  </tr>\n",
    "  <tr>\n",
    "    <td class=\"tg-baqh\">4</td>\n",
    "    <td class=\"tg-baqh\">10</td>\n",
    "    <td class=\"tg-yw4l\">40%</td>\n",
    "  </tr>\n",
    "  <tr>\n",
    "    <td class=\"tg-baqh\">7</td>\n",
    "    <td class=\"tg-baqh\">17</td>\n",
    "    <td class=\"tg-yw4l\">68%</td>\n",
    "  </tr>\n",
    "  <tr>\n",
    "    <td class=\"tg-baqh\">8</td>\n",
    "    <td class=\"tg-baqh\">25</td>\n",
    "    <td class=\"tg-yw4l\">100%</td>\n",
    "  </tr>\n",
    "</table>\n"
   ]
  },
  {
   "cell_type": "code",
   "execution_count": null,
   "metadata": {
    "collapsed": true,
    "deletable": true,
    "editable": true
   },
   "outputs": [],
   "source": [
    "# This for loop creates a list called percents, which stores the values for the 'Percentage Income' column\n",
    "# Define total_income, which is the sum of all of the incomes in the table\n",
    "total_income = \n",
    "percents = []\n",
    "for x in cumulative_step:\n",
    "    percent = x / total_income\n",
    "    percents.append(percent)"
   ]
  },
  {
   "cell_type": "code",
   "execution_count": null,
   "metadata": {
    "collapsed": true,
    "deletable": true,
    "editable": true
   },
   "outputs": [],
   "source": [
    "# Add 'percents' to 'lorenz_table'\n",
    "lorenz_table = "
   ]
  },
  {
   "cell_type": "markdown",
   "metadata": {
    "deletable": true,
    "editable": true
   },
   "source": [
    "Now we need to put the population in terms of percentage.  Add a new column that counts the income earners.  As in this table, there may be some people that have the same income.  It does not matter which order these go in.  Again, go to the last row and divide the count column by the total number of income earners.\n",
    "\n",
    "<style type=\"text/css\">\n",
    ".tg  {border-collapse:collapse;border-spacing:0;}\n",
    ".tg td{font-family:Arial, sans-serif;font-size:14px;padding:10px 5px;border-style:solid;border-width:1px;overflow:hidden;word-break:normal;}\n",
    ".tg th{font-family:Arial, sans-serif;font-size:14px;font-weight:normal;padding:10px 5px;border-style:solid;border-width:1px;overflow:hidden;word-break:normal;}\n",
    ".tg .tg-baqh{text-align:center;vertical-align:top}\n",
    ".tg .tg-yw4l{vertical-align:top}\n",
    "</style>\n",
    "<table class=\"tg\">\n",
    "  <tr>\n",
    "    <th class=\"tg-baqh\">Income</th>\n",
    "    <th class=\"tg-baqh\">Cumulative Income</th>\n",
    "    <th class=\"tg-yw4l\">Percentage Income</th>\n",
    "    <th class=\"tg-yw4l\">Count</th>\n",
    "    <th class=\"tg-yw4l\">Percentage Population</th>\n",
    "  </tr>\n",
    "  <tr>\n",
    "    <td class=\"tg-baqh\">3</td>\n",
    "    <td class=\"tg-baqh\">3</td>\n",
    "    <td class=\"tg-yw4l\">12%</td>\n",
    "    <td class=\"tg-yw4l\">1</td>\n",
    "    <td class=\"tg-yw4l\">20%</td>\n",
    "  </tr>\n",
    "  <tr>\n",
    "    <td class=\"tg-baqh\">3</td>\n",
    "    <td class=\"tg-baqh\">6</td>\n",
    "    <td class=\"tg-yw4l\">24%</td>\n",
    "    <td class=\"tg-yw4l\">2</td>\n",
    "    <td class=\"tg-yw4l\">40%</td>\n",
    "  </tr>\n",
    "  <tr>\n",
    "    <td class=\"tg-baqh\">4</td>\n",
    "    <td class=\"tg-baqh\">10</td>\n",
    "    <td class=\"tg-yw4l\">40%</td>\n",
    "    <td class=\"tg-yw4l\">3</td>\n",
    "    <td class=\"tg-yw4l\">60%</td>\n",
    "  </tr>\n",
    "  <tr>\n",
    "    <td class=\"tg-baqh\">7</td>\n",
    "    <td class=\"tg-baqh\">17</td>\n",
    "    <td class=\"tg-yw4l\">68%</td>\n",
    "    <td class=\"tg-yw4l\">4</td>\n",
    "    <td class=\"tg-yw4l\">80%</td>\n",
    "  </tr>\n",
    "  <tr>\n",
    "    <td class=\"tg-baqh\">8</td>\n",
    "    <td class=\"tg-baqh\">26</td>\n",
    "    <td class=\"tg-yw4l\">100%</td>\n",
    "    <td class=\"tg-yw4l\">5</td>\n",
    "    <td class=\"tg-yw4l\">100%</td>\n",
    "  </tr>\n",
    "</table>"
   ]
  },
  {
   "cell_type": "code",
   "execution_count": null,
   "metadata": {
    "collapsed": true,
    "deletable": true,
    "editable": true
   },
   "outputs": [],
   "source": [
    "# This for loop creates two lists, spot and pop_percent, which\n",
    "# contain the cumulative number of people and the cumulative population percentage\n",
    "# Define total_pop, which the number of people in this table\n",
    "total_pop = \n",
    "count = 0\n",
    "spot = []\n",
    "pop_percent = []\n",
    "for i in ordered_incomes:\n",
    "    count += 1\n",
    "    spot.append(count)\n",
    "    pop_percent.append(count / total_pop)"
   ]
  },
  {
   "cell_type": "markdown",
   "metadata": {
    "deletable": true,
    "editable": true
   },
   "source": [
    "We are missing the 0,0 row at the begining.  Add this row in.  You have not been using percentage signs in your table, so you don't need to add them in for the these zeros either.\n",
    "\n",
    "<style type=\"text/css\">\n",
    ".tg  {border-collapse:collapse;border-spacing:0;}\n",
    ".tg td{font-family:Arial, sans-serif;font-size:14px;padding:10px 5px;border-style:solid;border-width:1px;overflow:hidden;word-break:normal;}\n",
    ".tg th{font-family:Arial, sans-serif;font-size:14px;font-weight:normal;padding:10px 5px;border-style:solid;border-width:1px;overflow:hidden;word-break:normal;}\n",
    ".tg .tg-baqh{text-align:center;vertical-align:top}\n",
    ".tg .tg-yw4l{vertical-align:top}\n",
    "</style>\n",
    "<table class=\"tg\">\n",
    "  <tr>\n",
    "    <th class=\"tg-baqh\">Income</th>\n",
    "    <th class=\"tg-baqh\">Cumulative Income</th>\n",
    "    <th class=\"tg-yw4l\">Percentage Income</th>\n",
    "    <th class=\"tg-yw4l\">Count</th>\n",
    "    <th class=\"tg-yw4l\">Percentage Population</th>\n",
    "  </tr>\n",
    "  <tr>\n",
    "    <td class=\"tg-yw4l\"></td>\n",
    "    <td class=\"tg-yw4l\"></td>\n",
    "    <td class=\"tg-yw4l\">0%</td>\n",
    "    <td class=\"tg-yw4l\"></td>\n",
    "    <td class=\"tg-yw4l\">0%</td>\n",
    "  </tr>\n",
    "  <tr>\n",
    "    <td class=\"tg-baqh\">3</td>\n",
    "    <td class=\"tg-baqh\">3</td>\n",
    "    <td class=\"tg-yw4l\">12%</td>\n",
    "    <td class=\"tg-yw4l\">1</td>\n",
    "    <td class=\"tg-yw4l\">20%</td>\n",
    "  </tr>\n",
    "  <tr>\n",
    "    <td class=\"tg-baqh\">3</td>\n",
    "    <td class=\"tg-baqh\">6</td>\n",
    "    <td class=\"tg-yw4l\">24%</td>\n",
    "    <td class=\"tg-yw4l\">2</td>\n",
    "    <td class=\"tg-yw4l\">40%</td>\n",
    "  </tr>\n",
    "  <tr>\n",
    "    <td class=\"tg-baqh\">4</td>\n",
    "    <td class=\"tg-baqh\">10</td>\n",
    "    <td class=\"tg-yw4l\">40%</td>\n",
    "    <td class=\"tg-yw4l\">3</td>\n",
    "    <td class=\"tg-yw4l\">60%</td>\n",
    "  </tr>\n",
    "  <tr>\n",
    "    <td class=\"tg-baqh\">7</td>\n",
    "    <td class=\"tg-baqh\">17</td>\n",
    "    <td class=\"tg-yw4l\">68%</td>\n",
    "    <td class=\"tg-yw4l\">4</td>\n",
    "    <td class=\"tg-yw4l\">80%</td>\n",
    "  </tr>\n",
    "  <tr>\n",
    "    <td class=\"tg-baqh\">8</td>\n",
    "    <td class=\"tg-baqh\">26</td>\n",
    "    <td class=\"tg-yw4l\">100%</td>\n",
    "    <td class=\"tg-yw4l\">5</td>\n",
    "    <td class=\"tg-yw4l\">100%</td>\n",
    "  </tr>\n",
    "</table>\n",
    "\n",
    "You are ready to graph the Lorenz curve!"
   ]
  },
  {
   "cell_type": "code",
   "execution_count": null,
   "metadata": {
    "collapsed": true,
    "deletable": true,
    "editable": true
   },
   "outputs": [],
   "source": [
    "# Because we will only be using the columns 'Population Income' and 'Percentage Population,'\n",
    "# it does not matter what you fill in for the other column values of the inserted row"
   ]
  },
  {
   "cell_type": "markdown",
   "metadata": {
    "deletable": true,
    "editable": true
   },
   "source": [
    "Make a line graph with percentage population on the x axis and percentage income on the y axis."
   ]
  },
  {
   "cell_type": "code",
   "execution_count": null,
   "metadata": {
    "collapsed": true,
    "deletable": true,
    "editable": true
   },
   "outputs": [],
   "source": [
    "x_values = lorenz_table['Percentage Population']\n",
    "y_values = lorenz_table['Percentage Income']\n",
    "\n",
    "plots.xlabel('Income Percentage')\n",
    "plots.ylabel('Population Percentage')\n",
    "plots.title('Lorenz Curve')\n",
    "\n",
    "plots.scatter(x_values,y_values)"
   ]
  },
  {
   "cell_type": "markdown",
   "metadata": {
    "deletable": true,
    "editable": true
   },
   "source": [
    "## Calculate the Gini coefficient:\n",
    "The Gini coefficient is the area between the line and the 45% line.  It is the sum of the differences between Percent Population and Percent Income divided by the sum of Percent Population.  This number is between 0 and 1.  Consider if a smaller number represents more inequality and what the relationship of the formula to the graph is. The higher the Gini-coefficient is, the more unequal is the distribution of the thing being distributed across the population in question.  \n",
    "\n",
    "$$ \\frac{\\Sigma_{i=1}^{N} (\\% Pop_i - \\% Inc_i)}{\\Sigma_{i=1}^{N} \\% Pop_i}$$\n",
    "\n",
    "Note that if there were perfect equality, $\\% Pop_i = \\% Inc_i$."
   ]
  },
  {
   "cell_type": "markdown",
   "metadata": {
    "deletable": true,
    "editable": true
   },
   "source": []
  },
  {
   "cell_type": "markdown",
   "metadata": {
    "collapsed": true,
    "deletable": true,
    "editable": true
   },
   "source": [
    "# Initial SES Comparison\n",
    "\n",
    "We are going to analyze SES in relation to race, first by determining the ratio of how the average SES (income) for a specific race (e.g. African American) compares in relation to the average SES (income) for all US citizens.\n",
    "\n",
    "Then we are going to find the same ratio again, but this time with average African American SES (wealth) in relation to average SES (wealth) for all US citizens.\n",
    "\n",
    "This may give an indication of how including wealth as a factor can dramatically change SES index values.\n",
    "\n",
    "Henceforth, all references to SES will refer to the standard income definition of SES.\n",
    "\n",
    "Then we are going to change the weightings used in SES and see how that impacts our SES index and performance ranking."
   ]
  },
  {
   "cell_type": "markdown",
   "metadata": {
    "deletable": true,
    "editable": true
   },
   "source": [
    "First we are going to determine the ratio:\n",
    "\n",
    "$average SES for African Americans / average SES for all US citizens$\n",
    "\n",
    "We are going to look specifically at 2 variables: income and years of education. \n",
    "The following table displays information for income for African-Americans."
   ]
  },
  {
   "cell_type": "code",
   "execution_count": 41,
   "metadata": {
    "collapsed": false,
    "deletable": true,
    "editable": true
   },
   "outputs": [
    {
     "data": {
      "text/html": [
       "<table border=\"1\" class=\"dataframe\">\n",
       "    <thead>\n",
       "        <tr>\n",
       "            <th>Income Bracket ($)</th> <th>Total Estimate (African American)</th>\n",
       "        </tr>\n",
       "    </thead>\n",
       "    <tbody>\n",
       "        <tr>\n",
       "            <td>Total              </td> <td>14,186,983                       </td>\n",
       "        </tr>\n",
       "    </tbody>\n",
       "        <tr>\n",
       "            <td>less than 10,000   </td> <td>2,055,646                        </td>\n",
       "        </tr>\n",
       "    </tbody>\n",
       "        <tr>\n",
       "            <td>10,000 - 14,999    </td> <td>1,200,275                        </td>\n",
       "        </tr>\n",
       "    </tbody>\n",
       "        <tr>\n",
       "            <td>15,000 - 19,999    </td> <td>1,036,925                        </td>\n",
       "        </tr>\n",
       "    </tbody>\n",
       "        <tr>\n",
       "            <td>20,000 - 24,999    </td> <td>963,763                          </td>\n",
       "        </tr>\n",
       "    </tbody>\n",
       "        <tr>\n",
       "            <td>25,000 - 29,999    </td> <td>871,472                          </td>\n",
       "        </tr>\n",
       "    </tbody>\n",
       "        <tr>\n",
       "            <td>30,000 - 34,999    </td> <td>852,511                          </td>\n",
       "        </tr>\n",
       "    </tbody>\n",
       "        <tr>\n",
       "            <td>35,000 - 39,999    </td> <td>733,425                          </td>\n",
       "        </tr>\n",
       "    </tbody>\n",
       "        <tr>\n",
       "            <td>40,000 - 44,999    </td> <td>685,742                          </td>\n",
       "        </tr>\n",
       "    </tbody>\n",
       "        <tr>\n",
       "            <td>45,000 - 49,999    </td> <td>574,233                          </td>\n",
       "        </tr>\n",
       "    </tbody>\n",
       "        <tr>\n",
       "            <td>50,000 - 59,999    </td> <td>1,046,406                        </td>\n",
       "        </tr>\n",
       "    </tbody>\n",
       "        <tr>\n",
       "            <td>60,000 - 74,999    </td> <td>1,183,415                        </td>\n",
       "        </tr>\n",
       "    </tbody>\n",
       "        <tr>\n",
       "            <td>75,000 - 99,999    </td> <td>1,255,718                        </td>\n",
       "        </tr>\n",
       "    </tbody>\n",
       "        <tr>\n",
       "            <td>100,000 - 124,999  </td> <td>733,718                          </td>\n",
       "        </tr>\n",
       "    </tbody>\n",
       "        <tr>\n",
       "            <td>125,000 - 149,999  </td> <td>395,609                          </td>\n",
       "        </tr>\n",
       "    </tbody>\n",
       "        <tr>\n",
       "            <td>150,000 - 199,999  </td> <td>357,826                          </td>\n",
       "        </tr>\n",
       "    </tbody>\n",
       "        <tr>\n",
       "            <td>200,000 or more    </td> <td>240,299                          </td>\n",
       "        </tr>\n",
       "    </tbody>\n",
       "</table>"
      ],
      "text/plain": [
       "<IPython.core.display.HTML object>"
      ]
     },
     "metadata": {},
     "output_type": "display_data"
    }
   ],
   "source": [
    "aaincome = incomebyrace.select(0,1)\n",
    "aaincome.show()"
   ]
  },
  {
   "cell_type": "code",
   "execution_count": 38,
   "metadata": {
    "collapsed": false,
    "deletable": true,
    "editable": true
   },
   "outputs": [
    {
     "data": {
      "text/plain": [
       "7093491.5"
      ]
     },
     "execution_count": 38,
     "metadata": {},
     "output_type": "execute_result"
    }
   ],
   "source": [
    "#median income for African Americans: $37,500"
   ]
  },
  {
   "cell_type": "markdown",
   "metadata": {
    "deletable": true,
    "editable": true
   },
   "source": [
    "The following table displays the same information regarding income for all US citizens in aggregate: "
   ]
  },
  {
   "cell_type": "code",
   "execution_count": 34,
   "metadata": {
    "collapsed": false,
    "deletable": true,
    "editable": true,
    "scrolled": true
   },
   "outputs": [
    {
     "data": {
      "text/html": [
       "<table border=\"1\" class=\"dataframe\">\n",
       "    <thead>\n",
       "        <tr>\n",
       "            <th> Income Bracket ($)</th> <th>Total Estimate</th>\n",
       "        </tr>\n",
       "    </thead>\n",
       "    <tbody>\n",
       "        <tr>\n",
       "            <td>Total              </td> <td>116,926,305   </td>\n",
       "        </tr>\n",
       "    </tbody>\n",
       "        <tr>\n",
       "            <td>less than 10,000   </td> <td>8,421,482     </td>\n",
       "        </tr>\n",
       "    </tbody>\n",
       "        <tr>\n",
       "            <td>10,000 -  14,999   </td> <td>6,161,477     </td>\n",
       "        </tr>\n",
       "    </tbody>\n",
       "        <tr>\n",
       "            <td>15,000 -  19,999   </td> <td>6,139,644     </td>\n",
       "        </tr>\n",
       "    </tbody>\n",
       "        <tr>\n",
       "            <td>20,000 -  24,999   </td> <td>6,227,524     </td>\n",
       "        </tr>\n",
       "    </tbody>\n",
       "        <tr>\n",
       "            <td>25,000 -  29,999   </td> <td>5,852,048     </td>\n",
       "        </tr>\n",
       "    </tbody>\n",
       "        <tr>\n",
       "            <td>30,000 -  34,999   </td> <td>5,951,926     </td>\n",
       "        </tr>\n",
       "    </tbody>\n",
       "        <tr>\n",
       "            <td>35,000 -  39,999   </td> <td>5,436,927     </td>\n",
       "        </tr>\n",
       "    </tbody>\n",
       "        <tr>\n",
       "            <td>40,000 -  44,999   </td> <td>5,428,388     </td>\n",
       "        </tr>\n",
       "    </tbody>\n",
       "        <tr>\n",
       "            <td>45,000 -  49,999   </td> <td>4,807,116     </td>\n",
       "        </tr>\n",
       "    </tbody>\n",
       "        <tr>\n",
       "            <td>50,000 -  59,999   </td> <td>9,192,915     </td>\n",
       "        </tr>\n",
       "    </tbody>\n",
       "        <tr>\n",
       "            <td>60,000 -  74,999   </td> <td>11,634,324    </td>\n",
       "        </tr>\n",
       "    </tbody>\n",
       "        <tr>\n",
       "            <td>75,000 -  99,999   </td> <td>14,166,538    </td>\n",
       "        </tr>\n",
       "    </tbody>\n",
       "        <tr>\n",
       "            <td>100,000 -  124,999 </td> <td>9,581,177     </td>\n",
       "        </tr>\n",
       "    </tbody>\n",
       "        <tr>\n",
       "            <td>125,000 -  149,999 </td> <td>5,775,363     </td>\n",
       "        </tr>\n",
       "    </tbody>\n",
       "        <tr>\n",
       "            <td>150,000 -  199,999 </td> <td>6,010,418     </td>\n",
       "        </tr>\n",
       "    </tbody>\n",
       "        <tr>\n",
       "            <td>200,000 or more    </td> <td>6,139,038     </td>\n",
       "        </tr>\n",
       "    </tbody>\n",
       "</table>"
      ],
      "text/plain": [
       "<IPython.core.display.HTML object>"
      ]
     },
     "metadata": {},
     "output_type": "display_data"
    }
   ],
   "source": [
    "income.show()\n",
    "#median income for all US citizens: $55,000 "
   ]
  },
  {
   "cell_type": "code",
   "execution_count": 39,
   "metadata": {
    "collapsed": false,
    "deletable": true,
    "editable": true
   },
   "outputs": [
    {
     "data": {
      "text/html": [
       "<table border=\"1\" class=\"dataframe\">\n",
       "    <thead>\n",
       "        <tr>\n",
       "            <th>Educational Attainment </th> <th>Male</th> <th>Female</th> <th>Total Estimate</th> <th>Cumulative Population</th>\n",
       "        </tr>\n",
       "    </thead>\n",
       "    <tbody>\n",
       "        <tr>\n",
       "            <td>Total                                      </td> <td>102,007,511</td> <td>109,455,011</td> <td>211,462,522   </td> <td>211,462,522          </td>\n",
       "        </tr>\n",
       "    </tbody>\n",
       "        <tr>\n",
       "            <td>No schooling completed                     </td> <td>1,433,002  </td> <td>1,541,446  </td> <td>2,974,448     </td> <td>2,974,448            </td>\n",
       "        </tr>\n",
       "    </tbody>\n",
       "        <tr>\n",
       "            <td>Nursery to 4th grade                       </td> <td>828,764    </td> <td>844,074    </td> <td>1,672,838     </td> <td>4,647,286            </td>\n",
       "        </tr>\n",
       "    </tbody>\n",
       "        <tr>\n",
       "            <td>5th and 6th grade                          </td> <td>1,744,550  </td> <td>1,706,996  </td> <td>3,451,546     </td> <td>8,098,832            </td>\n",
       "        </tr>\n",
       "    </tbody>\n",
       "        <tr>\n",
       "            <td>7th and 8th grade                          </td> <td>1,997,412  </td> <td>1,997,625  </td> <td>3,995,037     </td> <td>12,093,869           </td>\n",
       "        </tr>\n",
       "    </tbody>\n",
       "        <tr>\n",
       "            <td>9th grade                                  </td> <td>1,814,562  </td> <td>1,682,023  </td> <td>3,496,585     </td> <td>15,590,454           </td>\n",
       "        </tr>\n",
       "    </tbody>\n",
       "        <tr>\n",
       "            <td>10th grade                                 </td> <td>2,120,597  </td> <td>2,026,065  </td> <td>4,146,662     </td> <td>19,737,116           </td>\n",
       "        </tr>\n",
       "    </tbody>\n",
       "        <tr>\n",
       "            <td>11th grade                                 </td> <td>2,391,837  </td> <td>2,306,193  </td> <td>4,698,030     </td> <td>24,435,146           </td>\n",
       "        </tr>\n",
       "    </tbody>\n",
       "        <tr>\n",
       "            <td>12th grade, no diploma                     </td> <td>1,991,470  </td> <td>1,802,478  </td> <td>3,793,948     </td> <td>28,229,094           </td>\n",
       "        </tr>\n",
       "    </tbody>\n",
       "        <tr>\n",
       "            <td>High school graduate (includes equivalency)</td> <td>28,952,834 </td> <td>29,769,694 </td> <td>58,722,528    </td> <td>86,951,622           </td>\n",
       "        </tr>\n",
       "    </tbody>\n",
       "        <tr>\n",
       "            <td>Some college, less than 1 year             </td> <td>6,101,918  </td> <td>7,111,708  </td> <td>13,213,626    </td> <td>100,165,248          </td>\n",
       "        </tr>\n",
       "    </tbody>\n",
       "        <tr>\n",
       "            <td>Some college, 1 or more years, no degree   </td> <td>15,019,016 </td> <td>16,296,519 </td> <td>31,315,535    </td> <td>131,480,783          </td>\n",
       "        </tr>\n",
       "    </tbody>\n",
       "        <tr>\n",
       "            <td>Associate's degree                         </td> <td>7,300,637  </td> <td>9,728,830  </td> <td>17,029,467    </td> <td>148,510,250          </td>\n",
       "        </tr>\n",
       "    </tbody>\n",
       "        <tr>\n",
       "            <td>Bachelor's degree                          </td> <td>18,721,504 </td> <td>20,444,543 </td> <td>39,166,047    </td> <td>187,676,297          </td>\n",
       "        </tr>\n",
       "    </tbody>\n",
       "        <tr>\n",
       "            <td>Master's degree                            </td> <td>7,470,111  </td> <td>9,370,798  </td> <td>16,840,909    </td> <td>204,517,206          </td>\n",
       "        </tr>\n",
       "    </tbody>\n",
       "        <tr>\n",
       "            <td>Professional school degree                 </td> <td>2,442,932  </td> <td>1,718,148  </td> <td>4,161,080     </td> <td>208,678,286          </td>\n",
       "        </tr>\n",
       "    </tbody>\n",
       "        <tr>\n",
       "            <td>Doctorate degree                           </td> <td>1,676,365  </td> <td>1,107,871  </td> <td>2,784,236     </td> <td>211,462,522          </td>\n",
       "        </tr>\n",
       "    </tbody>\n",
       "</table>"
      ],
      "text/plain": [
       "<IPython.core.display.HTML object>"
      ]
     },
     "metadata": {},
     "output_type": "display_data"
    }
   ],
   "source": [
    "educ.show()"
   ]
  },
  {
   "cell_type": "code",
   "execution_count": 28,
   "metadata": {
    "collapsed": false,
    "deletable": true,
    "editable": true
   },
   "outputs": [
    {
     "data": {
      "text/plain": [
       "105731261.0"
      ]
     },
     "execution_count": 28,
     "metadata": {},
     "output_type": "execute_result"
    }
   ],
   "source": [
    "# Calculate the median years of education for the total US population\n",
    "toteduc = int(educ.column('Total Estimate')[0].replace(',',''))\n",
    "medi = toteduc/2\n",
    "medi"
   ]
  },
  {
   "cell_type": "markdown",
   "metadata": {
    "collapsed": true,
    "deletable": true,
    "editable": true
   },
   "source": [
    "Which population bracket does this fall under?\n",
    "\n",
    "If we wanted to roughly quanitfy  median years of education it falls between \"Some college, less than 1 year\" and \"Some college, 1 or more years, no degree\" is approximately 12.5\n"
   ]
  },
  {
   "cell_type": "code",
   "execution_count": 1,
   "metadata": {
    "collapsed": true,
    "deletable": true,
    "editable": true
   },
   "outputs": [],
   "source": [
    "#Assign this to the variable 'mededuc'\n",
    "mededuc = 12.5\n",
    "# Repeat for AA"
   ]
  },
  {
   "cell_type": "markdown",
   "metadata": {
    "deletable": true,
    "editable": true
   },
   "source": [
    "We have already crunched some numbers for you, to get the following data:\n",
    "\n",
    "median income for African Americans: $37,500\n",
    "<br>\n",
    "median years of school for African Americans: 13 years of school\n",
    "\n",
    "median income for all US citizens: $55,000\n",
    "<br>\n",
    "median years of school for all US citizens: 12.5 years of school\n",
    "\n",
    "Source: https://factfinder.census.gov/faces/tableservices/jsf/pages/productview.xhtml?pid=ACS_15_5YR_B15002&prodType=table\n",
    "\n",
    "From here we're going to use weightings of $p_i$ = 0.8 and $p_e$ 0.2 to calculate our SES. Recall that our formula for SES is:\n",
    "\n",
    "$p_i * income score + p_e * years of education$\n"
   ]
  },
  {
   "cell_type": "markdown",
   "metadata": {
    "collapsed": true,
    "deletable": true,
    "editable": true
   },
   "source": [
    "Recall the income score chart:\n",
    "<table>\n",
    "  <tr>\n",
    "    <th>Income Score</th>\n",
    "    <th>Income Bracket (\\$) </th>\n",
    "  </tr>\n",
    "  <tr>\n",
    "    <td>1</td>\n",
    "    <td>less than \\$10,000</td>\n",
    "  </tr>\n",
    " <tr>\n",
    "    <td>2</td>\n",
    "    <td>\\$15,000 - \\$19,999</td>\n",
    "  </tr>\n",
    "  <tr>\n",
    "    <td>3</td>\n",
    "    <td>\\$20,000 - \\$24,999</td>\n",
    "  </tr>\n",
    "  <tr>\n",
    "    <td>4</td>\n",
    "    <td>\\$25,000 - \\$29,999</td>\n",
    "  </tr>\n",
    "  <tr>\n",
    "    <td>5</td>\n",
    "    <td>\\$30,000 - \\$34,999</td>\n",
    "  </tr>\n",
    "    <tr>\n",
    "    <td>6</td>\n",
    "    <td>\\$35,000 - \\$39,999</td>\n",
    "  </tr>\n",
    "    <tr>\n",
    "    <td>7</td>\n",
    "    <td>\\$40,000 - \\$44,999</td>\n",
    "  </tr>\n",
    "    <tr>\n",
    "    <td>8</td>\n",
    "    <td>\\$45,000 - \\$49,999</td>\n",
    "  </tr>\n",
    "    <tr>\n",
    "    <td>9</td>\n",
    "    <td>\\$50,000 - \\$59,999</td>\n",
    "  </tr>\n",
    "   <tr>\n",
    "    <td>10</td>\n",
    "    <td>\\$60,000 - \\$74,999</td>\n",
    "  </tr> \n",
    "   <tr>\n",
    "    <td>11</td>\n",
    "    <td>\\$75,000 - \\$99,999</td>\n",
    "  </tr>   \n",
    "   <tr>\n",
    "    <td>12</td>\n",
    "    <td>\\$100,000 - \\$124,999</td>\n",
    "  </tr> \n",
    "   <tr>\n",
    "    <td>13</td>\n",
    "    <td>\\$125,000 - \\$149,999</td>\n",
    "  </tr> \n",
    "   <tr>\n",
    "    <td>14</td>\n",
    "    <td>\\$150,000 - \\$199,999</td>\n",
    "  </tr>\n",
    "   <tr>\n",
    "    <td>15</td>\n",
    "    <td>\\$200,000 or more</td>\n",
    "  </tr> \n",
    "</table>"
   ]
  },
  {
   "cell_type": "markdown",
   "metadata": {
    "deletable": true,
    "editable": true
   },
   "source": [
    "Using the information above, find the SES for the median African American. Enter this value in the cell below."
   ]
  },
  {
   "cell_type": "code",
   "execution_count": null,
   "metadata": {
    "collapsed": true,
    "deletable": true,
    "editable": true
   },
   "outputs": [],
   "source": []
  },
  {
   "cell_type": "markdown",
   "metadata": {
    "deletable": true,
    "editable": true
   },
   "source": [
    "Find the SES for the median US citizen. Enter this value in the cell below."
   ]
  },
  {
   "cell_type": "code",
   "execution_count": null,
   "metadata": {
    "collapsed": true,
    "deletable": true,
    "editable": true
   },
   "outputs": [],
   "source": []
  },
  {
   "cell_type": "markdown",
   "metadata": {
    "deletable": true,
    "editable": true
   },
   "source": [
    "Find SES (income). Recall the formula for SES (income):\n",
    "\n",
    "$p_i * income score + p_e * years of education$"
   ]
  },
  {
   "cell_type": "code",
   "execution_count": null,
   "metadata": {
    "collapsed": true,
    "deletable": true,
    "editable": true
   },
   "outputs": [],
   "source": []
  },
  {
   "cell_type": "markdown",
   "metadata": {
    "deletable": true,
    "editable": true
   },
   "source": [
    "We will now calculate SES (wealth). In this lab, we measure the level of wealth for a race as the portion of citizens who use the Food Stamp / SNAP Program. This is a table for the portion of SNAP providees for all US citizens."
   ]
  },
  {
   "cell_type": "code",
   "execution_count": null,
   "metadata": {
    "collapsed": true,
    "deletable": true,
    "editable": true
   },
   "outputs": [],
   "source": [
    "\tEstimate\tMargin of Error\n",
    "Total:                                                          \t116,926,305\t+/-226,951\n",
    "Household received Food Stamps/SNAP in the past 12 months:      \t15,399,651\t+/-26,351\n",
    "Income in the past 12 months below poverty level                \t7,892,966\t+/-21,830\n",
    "Income in the past 12 months at or above poverty level          \t7,506,685\t+/-19,400\n",
    "Household did not receive Food Stamps/SNAP in the past 12 months:\t101,526,654\t+/-241,611\n",
    "Income in the past 12 months below poverty level                \t8,918,629\t+/-20,355\n",
    "Income in the past 12 months at or above poverty level          \t92,608,025\t+/-253,203\n",
    "\t\t\n",
    "\t\t\n",
    "portion of population who receive food stamps for all US citizens\t0.131703905\t\n",
    "\n",
    "Source: https://factfinder.census.gov/faces/tableservices/jsf/pages/productview.xhtml?pid=ACS_15_5YR_B22003&prodType=table"
   ]
  },
  {
   "cell_type": "markdown",
   "metadata": {
    "deletable": true,
    "editable": true
   },
   "source": [
    "The table below shows the portion of the population who receives food stamps for African Americans."
   ]
  },
  {
   "cell_type": "code",
   "execution_count": null,
   "metadata": {
    "collapsed": true,
    "deletable": true,
    "editable": true
   },
   "outputs": [],
   "source": [
    "\tUnited States\t\n",
    "\tEstimate\tMargin of Error\n",
    "Total:                                                          \t14,186,983\t+/-27,959\n",
    "Household received Food Stamps/SNAP in the past 12 months       \t4,016,335\t+/-15,107\n",
    "Household did not receive Food Stamps/SNAP in the past 12 months\t10,170,648\t+/-23,261\n",
    "\t\t\n",
    "portion of population who received food stamps for African Americans\t0.283100008\t\n",
    "\n",
    "Source: https://factfinder.census.gov/faces/tableservices/jsf/pages/productview.xhtml?pid=ACS_15_5YR_B22005B&prodType=table"
   ]
  },
  {
   "cell_type": "markdown",
   "metadata": {
    "deletable": true,
    "editable": true
   },
   "source": [
    "Let us now calculate SES wealth using the new formula using the wealth score as defined below: \n",
    "\n",
    "US proportion =               0.131703905 --> score of 1.32\n",
    "<br>\n",
    "African American proportion = 0.283100008 --> score of 2.83\n",
    "\n",
    "Recall the formula: \n",
    "<br>\n",
    "<br>\n",
    "$p_w * wealth score + p_e * years of education$, \n",
    "<br>\n",
    "<br>\n",
    "where $p_w$ and $p_e$ retain the same weights as before, 0.8 and 0.2 respectively.\n",
    "\n",
    "Enter in your value for SES (wealth) below."
   ]
  },
  {
   "cell_type": "code",
   "execution_count": null,
   "metadata": {
    "collapsed": true,
    "deletable": true,
    "editable": true
   },
   "outputs": [],
   "source": []
  },
  {
   "cell_type": "markdown",
   "metadata": {
    "deletable": true,
    "editable": true
   },
   "source": [
    "Compare your values for SES (income) and SES (wealth). What are the implications of having different SES values?"
   ]
  },
  {
   "cell_type": "code",
   "execution_count": null,
   "metadata": {
    "collapsed": true,
    "deletable": true,
    "editable": true
   },
   "outputs": [],
   "source": []
  },
  {
   "cell_type": "markdown",
   "metadata": {
    "deletable": true,
    "editable": true
   },
   "source": [
    "# Changing SES Weights\n",
    "\n",
    "Moving foward, we will only be using SES (income). Anytime in the later text in which this lab references, we are referring to SES (income), defined as:\n",
    "<br>\n",
    "<br>\n",
    "$p_i * income score + p_e * years of education$, \n",
    "<br>\n",
    "<br>\n",
    "Up to this point, we have maintained weights of $p_i$ = 0.8 and $p_e$ = 0.2. These weights are arbitrary numbers that sum up to 1.0 chosen by how much importance we assign to a factor in our SES index value. In this case, we say that 80% of our SES index is determined by income and 20% is determined by years of education.\n",
    "\n",
    "We will now experiment with toggling between different weightings for SES. \n",
    "\n",
    "We are going to take the case of Jim: an African-American with an income of $35,000 and 16 years of education. First we will compute the ratio of $individual SES / median US SES$, and then we will compute $individual SES / median African American SES$.\n",
    "\n",
    "\n",
    "Recall the information that was provided earlier:\n",
    "\n",
    "median income for African Americans: $37,500\n",
    "<br>\n",
    "median years of school for African Americans: 13 years of school\n",
    "\n",
    "median income for all US citizens: $55,000\n",
    "<br>\n",
    "median years of school for all US citizens: 12.5 years of school\n",
    "\n",
    "Compute his $individual SES / median US SES$ using weightings of 0.8 and 0.2. The income score table has been copied below for your convenience.  Is he overperforming or underperforming?"
   ]
  },
  {
   "cell_type": "markdown",
   "metadata": {
    "collapsed": true,
    "deletable": true,
    "editable": true
   },
   "source": [
    "<table>\n",
    "  <tr>\n",
    "    <th>Income Score</th>\n",
    "    <th>Income Bracket (\\$) </th>\n",
    "  </tr>\n",
    "  <tr>\n",
    "    <td>1</td>\n",
    "    <td>less than \\$10,000</td>\n",
    "  </tr>\n",
    " <tr>\n",
    "    <td>2</td>\n",
    "    <td>\\$15,000 - \\$19,999</td>\n",
    "  </tr>\n",
    "  <tr>\n",
    "    <td>3</td>\n",
    "    <td>\\$20,000 - \\$24,999</td>\n",
    "  </tr>\n",
    "  <tr>\n",
    "    <td>4</td>\n",
    "    <td>\\$25,000 - \\$29,999</td>\n",
    "  </tr>\n",
    "  <tr>\n",
    "    <td>5</td>\n",
    "    <td>\\$30,000 - \\$34,999</td>\n",
    "  </tr>\n",
    "    <tr>\n",
    "    <td>6</td>\n",
    "    <td>\\$35,000 - \\$39,999</td>\n",
    "  </tr>\n",
    "    <tr>\n",
    "    <td>7</td>\n",
    "    <td>\\$40,000 - \\$44,999</td>\n",
    "  </tr>\n",
    "    <tr>\n",
    "    <td>8</td>\n",
    "    <td>\\$45,000 - \\$49,999</td>\n",
    "  </tr>\n",
    "    <tr>\n",
    "    <td>9</td>\n",
    "    <td>\\$50,000 - \\$59,999</td>\n",
    "  </tr>\n",
    "   <tr>\n",
    "    <td>10</td>\n",
    "    <td>\\$60,000 - \\$74,999</td>\n",
    "  </tr> \n",
    "   <tr>\n",
    "    <td>11</td>\n",
    "    <td>\\$75,000 - \\$99,999</td>\n",
    "  </tr>   \n",
    "   <tr>\n",
    "    <td>12</td>\n",
    "    <td>\\$100,000 - \\$124,999</td>\n",
    "  </tr> \n",
    "   <tr>\n",
    "    <td>13</td>\n",
    "    <td>\\$125,000 - \\$149,999</td>\n",
    "  </tr> \n",
    "   <tr>\n",
    "    <td>14</td>\n",
    "    <td>\\$150,000 - \\$199,999</td>\n",
    "  </tr>\n",
    "   <tr>\n",
    "    <td>15</td>\n",
    "    <td>\\$200,000 or more</td>\n",
    "  </tr> \n",
    "</table>"
   ]
  },
  {
   "cell_type": "code",
   "execution_count": null,
   "metadata": {
    "collapsed": true,
    "deletable": true,
    "editable": true
   },
   "outputs": [],
   "source": []
  },
  {
   "cell_type": "markdown",
   "metadata": {
    "deletable": true,
    "editable": true
   },
   "source": [
    "Compute his $individual SES / median African American SES$. Is he overperforming or underperforming?"
   ]
  },
  {
   "cell_type": "code",
   "execution_count": null,
   "metadata": {
    "collapsed": true,
    "deletable": true,
    "editable": true
   },
   "outputs": [],
   "source": []
  },
  {
   "cell_type": "markdown",
   "metadata": {
    "deletable": true,
    "editable": true
   },
   "source": [
    "Now lets change the weights to 0.5 and 0.5. Compute his $individual SES / median US SES$. Is he overperforming or underperforming?"
   ]
  },
  {
   "cell_type": "code",
   "execution_count": null,
   "metadata": {
    "collapsed": true,
    "deletable": true,
    "editable": true
   },
   "outputs": [],
   "source": []
  },
  {
   "cell_type": "markdown",
   "metadata": {
    "deletable": true,
    "editable": true
   },
   "source": [
    "Compute his $individual SES / median African American SES$ with weights of 0.5 and 0.5. Is he overperforming or underperforming?"
   ]
  },
  {
   "cell_type": "code",
   "execution_count": null,
   "metadata": {
    "collapsed": true,
    "deletable": true,
    "editable": true
   },
   "outputs": [],
   "source": []
  },
  {
   "cell_type": "markdown",
   "metadata": {
    "deletable": true,
    "editable": true
   },
   "source": [
    "How does the importance that we place on certain factors affect Jim's socio-economic status?"
   ]
  },
  {
   "cell_type": "code",
   "execution_count": null,
   "metadata": {
    "collapsed": true,
    "deletable": true,
    "editable": true
   },
   "outputs": [],
   "source": []
  },
  {
   "cell_type": "markdown",
   "metadata": {
    "deletable": true,
    "editable": true
   },
   "source": [
    "Let's change the weightings further: 0.2 for $p_i$ and 0.8 for $p_e$. Calculate the median SES for African Americans."
   ]
  },
  {
   "cell_type": "code",
   "execution_count": null,
   "metadata": {
    "collapsed": true,
    "deletable": true,
    "editable": true
   },
   "outputs": [],
   "source": []
  },
  {
   "cell_type": "markdown",
   "metadata": {
    "deletable": true,
    "editable": true
   },
   "source": [
    "Calculate the median SES for all US citizens using the same weights of 0.2 and  0.8."
   ]
  },
  {
   "cell_type": "code",
   "execution_count": null,
   "metadata": {
    "collapsed": true,
    "deletable": true,
    "editable": true
   },
   "outputs": [],
   "source": []
  },
  {
   "cell_type": "markdown",
   "metadata": {
    "deletable": true,
    "editable": true
   },
   "source": [
    "Are African Americans overperforming or underperforming in relation to all US citizens?"
   ]
  },
  {
   "cell_type": "code",
   "execution_count": null,
   "metadata": {
    "collapsed": true,
    "deletable": true,
    "editable": true
   },
   "outputs": [],
   "source": []
  },
  {
   "cell_type": "markdown",
   "metadata": {
    "deletable": true,
    "editable": true
   },
   "source": [
    "How does this compare to values that you found previously with weights of 0.8 $p_i$ and 0.2 $p_e$?"
   ]
  },
  {
   "cell_type": "code",
   "execution_count": null,
   "metadata": {
    "collapsed": true,
    "deletable": true,
    "editable": true
   },
   "outputs": [],
   "source": []
  },
  {
   "cell_type": "markdown",
   "metadata": {
    "deletable": true,
    "editable": true
   },
   "source": [
    "Suppose there was a public policy initiative to provide increased funding to households of low socio-economic status. The board of this policy is debating if they should focus specially on publicizing this initiative to a certain African American community. How would their decision change based on the SES values that we found?"
   ]
  },
  {
   "cell_type": "code",
   "execution_count": null,
   "metadata": {
    "collapsed": true,
    "deletable": true,
    "editable": true
   },
   "outputs": [],
   "source": []
  },
  {
   "cell_type": "markdown",
   "metadata": {
    "deletable": true,
    "editable": true
   },
   "source": [
    "Data science involves making decisions like assigning weights to factors to determine SES indices. These decisions are often ambiguous and do not readily provide a clear answer, but the insights and the conclusions that we draw can influence public policy decisions. One important objective of this lab was to demonstrate that data science isn't always clear cut and involves making judgment calls as well."
   ]
  }
 ],
 "metadata": {
  "kernelspec": {
   "display_name": "Python 3",
   "language": "python",
   "name": "python3"
  },
  "language_info": {
   "codemirror_mode": {
    "name": "ipython",
    "version": 3
   },
   "file_extension": ".py",
   "mimetype": "text/x-python",
   "name": "python",
   "nbconvert_exporter": "python",
   "pygments_lexer": "ipython3",
   "version": "3.5.2"
  }
 },
 "nbformat": 4,
 "nbformat_minor": 2
}
